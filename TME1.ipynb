{
  "nbformat": 4,
  "nbformat_minor": 0,
  "metadata": {
    "colab": {
      "name": "TME1 AMAL",
      "provenance": [],
      "collapsed_sections": []
    },
    "kernelspec": {
      "name": "python3",
      "display_name": "Python 3"
    }
  },
  "cells": [
    {
      "cell_type": "markdown",
      "metadata": {
        "id": "huwS-wki2y-B"
      },
      "source": [
        "# MSE et Linear"
      ]
    },
    {
      "cell_type": "code",
      "metadata": {
        "id": "QQ-XBKoHOuwK",
        "outputId": "ed712a1c-e068-404d-f84e-cc603865cd28",
        "colab": {
          "base_uri": "https://localhost:8080/"
        }
      },
      "source": [
        "# Ne pas oublier d'executer dans le shell avant de lancer python :\n",
        "# source /users/Enseignants/piwowarski/venv/amal/3.7/bin/activate\n",
        " \n",
        "import torch\n",
        "import numpy as np\n",
        "from torch.autograd import Function\n",
        "from torch.autograd import gradcheck\n",
        "import matplotlib.pyplot as plt\n",
        " \n",
        " \n",
        "class Context:\n",
        "    \"\"\"Un objet contexte très simplifié pour simuler PyTorch\n",
        " \n",
        "    Un contexte différent doit être utilisé à chaque forward\n",
        "    \"\"\"\n",
        "    def __init__(self):\n",
        "        self._saved_tensors = ()\n",
        "    def save_for_backward(self, *args):\n",
        "        self._saved_tensors = args\n",
        "    @property\n",
        "    def saved_tensors(self):\n",
        "        return self._saved_tensors\n",
        " \n",
        " \n",
        "class MSE(Function):\n",
        "    \"\"\"Début d'implementation de la fonction MSE\"\"\"\n",
        "    @staticmethod\n",
        "    def forward(ctx, yhat, y):\n",
        "        ## Garde les valeurs nécessaires pour le backwards\n",
        "        ctx.save_for_backward(yhat, y)\n",
        "        q = yhat.shape[0]\n",
        "        return (1/q) * ((yhat-y)**2).sum()\n",
        "        #  TODO:  Renvoyer la valeur de la fonction\n",
        " \n",
        "    @staticmethod\n",
        "    def backward(ctx, grad_output):\n",
        "        ## Calcul du gradient du module par rapport a chaque groupe d'entrées\n",
        "        yhat, y = ctx.saved_tensors\n",
        "        q = yhat.shape[0]\n",
        "        dyhat = grad_output* 2/q * (yhat - y)\n",
        "        dy = -dyhat\n",
        "        return dyhat,dy\n",
        "        #  TODO:  Renvoyer par les deux dérivées partielles (par rapport à yhat et à y)\n",
        " \n",
        "#  TODO:  Implémenter la fonction Linear(X, W, b)\n",
        "class Linear(Function):\n",
        "    \"\"\"Début d'implementation de la fonction Linear\"\"\"\n",
        "    @staticmethod\n",
        "    def forward(ctx, X, W, b):\n",
        "        ## Garde les valeurs nécessaires pour le backwards\n",
        "        ctx.save_for_backward(X, W)\n",
        "        return torch.mm(X,W)+b\n",
        "        #  TODO:  Renvoyer la valeur de la fonction\n",
        " \n",
        "    @staticmethod\n",
        "    def backward(ctx, grad_output):\n",
        "        ## Calcul du gradient du module par rapport a chaque groupe d'entrées\n",
        "        X, W = ctx.saved_tensors\n",
        "        q = y.shape[0]\n",
        "        grad_yhat=grad_output\n",
        "        dw = torch.matmul(X.T,grad_yhat)\n",
        "        db = grad_yhat\n",
        "        dx = torch.matmul(grad_yhat,W.T)\n",
        " \n",
        "        return dx, dw, db\n",
        " \n",
        "mse = MSE.apply\n",
        "linear = Linear.apply\n",
        " \n",
        "print(mse)\n",
        "print(linear)"
      ],
      "execution_count": null,
      "outputs": [
        {
          "output_type": "stream",
          "text": [
            "<built-in method apply of FunctionMeta object at 0x536b698>\n",
            "<built-in method apply of FunctionMeta object at 0x536ba58>\n"
          ],
          "name": "stdout"
        }
      ]
    },
    {
      "cell_type": "code",
      "metadata": {
        "id": "uLQP8N64OlJz",
        "outputId": "5f249cc8-45d1-4787-9118-61354e3e20ae",
        "colab": {
          "base_uri": "https://localhost:8080/"
        }
      },
      "source": [
        "yhat = torch.randn(1,5, requires_grad=True, dtype=torch.float64)\n",
        "y = torch.randn(1,5, requires_grad=True, dtype=torch.float64)\n",
        "torch.autograd.gradcheck(mse, (yhat, y))"
      ],
      "execution_count": null,
      "outputs": [
        {
          "output_type": "execute_result",
          "data": {
            "text/plain": [
              "True"
            ]
          },
          "metadata": {
            "tags": []
          },
          "execution_count": 3
        }
      ]
    },
    {
      "cell_type": "code",
      "metadata": {
        "id": "CQ7DCIClXFst",
        "outputId": "7675ad13-e2e4-482d-9543-72f973d6178b",
        "colab": {
          "base_uri": "https://localhost:8080/"
        }
      },
      "source": [
        "X = torch.randn(10,4, requires_grad=True, dtype=torch.float64)\n",
        "W = torch.randn(4,12, requires_grad=True, dtype=torch.float64)\n",
        "b = torch.randn(1,12, requires_grad=True, dtype=torch.float64)\n",
        "torch.autograd.gradcheck(linear, (X, W, b))"
      ],
      "execution_count": null,
      "outputs": [
        {
          "output_type": "execute_result",
          "data": {
            "text/plain": [
              "True"
            ]
          },
          "metadata": {
            "tags": []
          },
          "execution_count": 4
        }
      ]
    },
    {
      "cell_type": "markdown",
      "metadata": {
        "id": "6Et4FZUE2wx5"
      },
      "source": [
        "# Descente de gradient"
      ]
    },
    {
      "cell_type": "code",
      "metadata": {
        "id": "HT79eDWOg5Wi"
      },
      "source": [
        "from torch.utils.tensorboard import SummaryWriter\n",
        "import matplotlib.pyplot as plt\n",
        "\n",
        "# Les données supervisées\n",
        "X = torch.randn(50, 13)\n",
        "y = torch.randn(50, 3)\n",
        "\n",
        "def gradient_descent(X,y,epsilon,maxiter=100,verbose=True):\n",
        "    # Les paramètres du modèle à optimiser\n",
        "    w = torch.randn(X.shape[1], y.shape[1])\n",
        "    b = torch.randn(y.shape[1])\n",
        "    ctxMSE = Context()\n",
        "    ctxLinear = Context()\n",
        "    writer = SummaryWriter()\n",
        "    arrayError = []\n",
        "    for n_iter in range(maxiter):\n",
        "        yhat = Linear.forward(ctxLinear,X,w,b)\n",
        "        loss = MSE.forward(ctxMSE,yhat,y)\n",
        "        if (n_iter % 20 == 0):\n",
        "          print(f\"Itérations {n_iter}: loss {loss}\")\n",
        "          pass\n",
        "        writer.add_scalar('Loss/train', loss, n_iter)\n",
        "        # Sortie directe\n",
        "        grad_output = MSE.backward(ctxMSE,1)[0]\n",
        "        ##  TODO:  Calcul du backward (grad_w, grad_b)\n",
        "        dx, dw, db = Linear.backward(ctxLinear, grad_output)\n",
        "        ##  TODO:  Mise à jour des paramètres du modèle\n",
        "        w = w - epsilon*dw\n",
        "        b = b - epsilon*db\n",
        "        arrayError.append(loss)\n",
        "    if verbose:\n",
        "        plt.plot([i for i in range(maxiter)],arrayError)\n",
        "        plt.xlabel(\"Nombre d'itérations\")\n",
        "        plt.ylabel(\"Loss\")\n",
        "        plt.title(\"Descente de gradient\")\n",
        "        plt.savefig(\"tme1\")\n",
        "        plt.show()\n",
        "    return arrayError"
      ],
      "execution_count": null,
      "outputs": []
    },
    {
      "cell_type": "code",
      "metadata": {
        "id": "vVBo3fGvMTnq",
        "outputId": "6de8f364-1299-4bb2-a51e-85d8a5824de8",
        "colab": {
          "base_uri": "https://localhost:8080/",
          "height": 550
        }
      },
      "source": [
        "X = torch.randn(5000, 4)\n",
        "y = torch.randn(5000, 50)\n",
        "maxiter = 100\n",
        "arrayEpsilon = [0.005,0.05,0.1]\n",
        "errors = []\n",
        "for epsilon in arrayEpsilon:\n",
        "    error = gradient_descent(X,y,epsilon,maxiter,verbose=False)\n",
        "    plt.plot([i for i in range(maxiter)],error,label=\"epsilon = {}\".format(epsilon))\n",
        "plt.xlabel(\"Nombre d'itérations\")\n",
        "plt.ylabel(\"Loss\")\n",
        "plt.legend()\n",
        "plt.title(\"Loss en fonction du learning rate\")\n",
        "plt.savefig(\"tme1\")\n",
        "plt.show()"
      ],
      "execution_count": null,
      "outputs": [
        {
          "output_type": "stream",
          "text": [
            "Itérations 0: loss 312.7992858886719\n",
            "Itérations 20: loss 240.06724548339844\n",
            "Itérations 40: loss 191.43516540527344\n",
            "Itérations 60: loss 158.91204833984375\n",
            "Itérations 80: loss 137.15830993652344\n",
            "Itérations 0: loss 274.94757080078125\n",
            "Itérations 20: loss 84.99333953857422\n",
            "Itérations 40: loss 82.10994720458984\n",
            "Itérations 60: loss 82.00151824951172\n",
            "Itérations 80: loss 81.93526458740234\n",
            "Itérations 0: loss 322.6455383300781\n",
            "Itérations 20: loss 114.77788543701172\n",
            "Itérations 40: loss 114.5657958984375\n",
            "Itérations 60: loss 114.38262176513672\n",
            "Itérations 80: loss 114.19976043701172\n"
          ],
          "name": "stdout"
        },
        {
          "output_type": "display_data",
          "data": {
            "image/png": "[encoded data removed]",
            "text/plain": [
              "<Figure size 432x288 with 1 Axes>"
            ]
          },
          "metadata": {
            "tags": [],
            "needs_background": "light"
          }
        }
      ]
    },
    {
      "cell_type": "code",
      "metadata": {
        "id": "Tw-vW--wUgKf"
      },
      "source": [
        ""
      ],
      "execution_count": null,
      "outputs": []
    }
  ]
}